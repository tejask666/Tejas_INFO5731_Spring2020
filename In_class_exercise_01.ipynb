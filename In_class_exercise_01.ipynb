{
  "nbformat": 4,
  "nbformat_minor": 0,
  "metadata": {
    "colab": {
      "name": "Copy of In_class_exercise_01.ipynb",
      "provenance": [],
      "collapsed_sections": [],
      "include_colab_link": true
    },
    "kernelspec": {
      "name": "python3",
      "display_name": "Python 3"
    }
  },
  "cells": [
    {
      "cell_type": "markdown",
      "metadata": {
        "id": "view-in-github",
        "colab_type": "text"
      },
      "source": [
        "<a href=\"https://colab.research.google.com/github/tejask666/Tejas_INFO5731_Spring2020/blob/master/In_class_exercise_01.ipynb\" target=\"_parent\"><img src=\"https://colab.research.google.com/assets/colab-badge.svg\" alt=\"Open In Colab\"/></a>"
      ]
    },
    {
      "cell_type": "markdown",
      "metadata": {
        "id": "DymRJbxDBCnf",
        "colab_type": "text"
      },
      "source": [
        "# **The first In-class-exercise**"
      ]
    },
    {
      "cell_type": "markdown",
      "metadata": {
        "id": "03jb4GZsBkBS",
        "colab_type": "text"
      },
      "source": [
        "(1) Write a Python program to calculate the length of a string."
      ]
    },
    {
      "cell_type": "code",
      "metadata": {
        "id": "YaGLbSHHB8Ej",
        "colab_type": "code",
        "outputId": "e69d2b62-d737-4ea5-b7e8-a2d64a9a5f29",
        "colab": {
          "base_uri": "https://localhost:8080/",
          "height": 52
        }
      },
      "source": [
        "# write your answer here\n",
        "a = input('Enter the string ')\n",
        "print(len(a))"
      ],
      "execution_count": 0,
      "outputs": [
        {
          "output_type": "stream",
          "text": [
            "Enter the string hello world how are you guys\n",
            "28\n"
          ],
          "name": "stdout"
        }
      ]
    },
    {
      "cell_type": "markdown",
      "metadata": {
        "id": "jJDe71iLB616",
        "colab_type": "text"
      },
      "source": [
        "(2) Write a Python program to count the number of characters in a string.\n",
        "\n",
        "Sample String : 'google.com‘, \n",
        "\n",
        "Expected Result : {'o': 3, 'g': 2, '.': 1, 'e': 1, 'l': 1, 'm': 1, 'c': 1}"
      ]
    },
    {
      "cell_type": "code",
      "metadata": {
        "id": "MtKskTzbCLaU",
        "colab_type": "code",
        "outputId": "e8c82216-9724-4660-d5a7-a2f3578c4aa1",
        "colab": {
          "base_uri": "https://localhost:8080/",
          "height": 52
        }
      },
      "source": [
        "# write your answer here\n",
        "X = input(\"Enter the string\")\n",
        "dict ={}\n",
        "for element in X:\n",
        "    if element in dict.keys():\n",
        "     dict[element] = dict[element] + 1\n",
        "    else:\n",
        "     dict[element] = 1\n",
        "print(dict)"
      ],
      "execution_count": 0,
      "outputs": [
        {
          "output_type": "stream",
          "text": [
            "Enter the stringheellloooowwwww\n",
            "{'h': 1, 'e': 2, 'l': 3, 'o': 4, 'w': 5}\n"
          ],
          "name": "stdout"
        }
      ]
    },
    {
      "cell_type": "markdown",
      "metadata": {
        "id": "55W9AMdXCSpV",
        "colab_type": "text"
      },
      "source": [
        "(3) Write a Python program to sum all the items in a list"
      ]
    },
    {
      "cell_type": "code",
      "metadata": {
        "id": "I57NXsauCec2",
        "colab_type": "code",
        "outputId": "e33fc1d5-457f-45a0-b642-09924bad1908",
        "colab": {
          "base_uri": "https://localhost:8080/",
          "height": 34
        }
      },
      "source": [
        "# write your answer here\n",
        "Sentence = [10,10,70,90]\n",
        "Addition = sum(Sentence)\n",
        "print(Addition)"
      ],
      "execution_count": 0,
      "outputs": [
        {
          "output_type": "stream",
          "text": [
            "180\n"
          ],
          "name": "stdout"
        }
      ]
    },
    {
      "cell_type": "markdown",
      "metadata": {
        "id": "4ulBZ6yhCi9F",
        "colab_type": "text"
      },
      "source": [
        "(4) Write a Python program to get a string from a given string where all occurrences of its first char have been changed to '\\$', except the first char itself. \n",
        "\n",
        "Sample String : 'restart‘, \n",
        "\n",
        "Expected Result : 'resta\\$t'"
      ]
    },
    {
      "cell_type": "code",
      "metadata": {
        "id": "Fj0XhwbBCw2o",
        "colab_type": "code",
        "outputId": "41fbd29f-a987-4da9-a058-3b4a0cd55157",
        "colab": {
          "base_uri": "https://localhost:8080/",
          "height": 52
        }
      },
      "source": [
        "# write your answer here\n",
        "X = input(\"Enter the string\")\n",
        "dict = []\n",
        "Y = X[0]\n",
        "for element in X:\n",
        "    if element in dict:\n",
        "        if element == Y:\n",
        "            dict.append('$')\n",
        "        else:\n",
        "            dict.append(element)\n",
        "    else:\n",
        "        dict.append(element)\n",
        "dict[0] = Y\n",
        "z = ''.join(dict)\n",
        "print(z)\n"
      ],
      "execution_count": 0,
      "outputs": [
        {
          "output_type": "stream",
          "text": [
            "Enter the stringrestart\n",
            "resta$t\n"
          ],
          "name": "stdout"
        }
      ]
    },
    {
      "cell_type": "markdown",
      "metadata": {
        "id": "_bIP7s1MCzue",
        "colab_type": "text"
      },
      "source": [
        "(5) Write a program with python which could accept two parameter a and b to calculate and output the result of S, where \n",
        "\n",
        "$\\ S=3.14*(1+a/b)^3$\n",
        "\n"
      ]
    },
    {
      "cell_type": "code",
      "metadata": {
        "id": "w79QilHXD3Mg",
        "colab_type": "code",
        "outputId": "f919fb1f-7b12-4ae2-a09c-4896d1bcc6b7",
        "colab": {
          "base_uri": "https://localhost:8080/",
          "height": 70
        }
      },
      "source": [
        "# write your answer here\n",
        "pi = 3.14\n",
        "a= input('Enter the value of a:')\n",
        "b= input('Enter the value of b:')\n",
        "S= pi*(1+int(a)/int(b)) **3 \n",
        "print(S)"
      ],
      "execution_count": 0,
      "outputs": [
        {
          "output_type": "stream",
          "text": [
            "Enter the value of a:1200\n",
            "Enter the value of b:4\n",
            "85630629.14\n"
          ],
          "name": "stdout"
        }
      ]
    },
    {
      "cell_type": "markdown",
      "metadata": {
        "id": "xCa2bK9aD4Q3",
        "colab_type": "text"
      },
      "source": [
        "(6) Write a Python program to concatenate following dictionaries to create a new one. \n",
        "\n",
        "Sample Dictionary : dic1={1:10, 2:20}, dic2={3:30, 4:40}, dic3={5:50,6:60}, \n",
        "\n",
        "Expected Result : {1: 10, 2: 20, 3: 30, 4: 40, 5: 50, 6: 60}\n"
      ]
    },
    {
      "cell_type": "code",
      "metadata": {
        "id": "_z4aLqAbEET1",
        "colab_type": "code",
        "outputId": "1ad0ee3f-d14a-4a56-9165-f8d0ce4625fa",
        "colab": {
          "base_uri": "https://localhost:8080/",
          "height": 34
        }
      },
      "source": [
        "# write your answer here\n",
        "dic1 =  {1:10,2:20}\n",
        "dic2 =  {3:30,4:40,5:50,6:60}\n",
        "dic3={5:50,6:60}\n",
        "dic1.update(dic2)\n",
        "dic1.update(dic3)\n",
        "\n",
        "print('New dictionary:',dic1)"
      ],
      "execution_count": 0,
      "outputs": [
        {
          "output_type": "stream",
          "text": [
            "New dictionary: {1: 10, 2: 20, 3: 30, 4: 40, 5: 50, 6: 60}\n"
          ],
          "name": "stdout"
        }
      ]
    },
    {
      "cell_type": "markdown",
      "metadata": {
        "id": "0v48Vqa7FrQh",
        "colab_type": "text"
      },
      "source": [
        "(7) Write a Python program to check whether an element exists within a tuple."
      ]
    },
    {
      "cell_type": "code",
      "metadata": {
        "id": "7WEmgq-DF2P1",
        "colab_type": "code",
        "outputId": "8adf2a42-b625-4d1e-a5bb-b5c7f5843958",
        "colab": {
          "base_uri": "https://localhost:8080/",
          "height": 87
        }
      },
      "source": [
        "# write your answer here\n",
        "\n",
        "X = input('Enter the Elements')\n",
        "str1 = X\n",
        "Z=str1.split(' ')\n",
        "\n",
        "print(Z)\n",
        "Y= input('Enter the element which you want to search from tuple:' )\n",
        "\n",
        "if Y in Z:\n",
        "  print('Element is present')\n",
        "else:\n",
        "  print('Element is not present')"
      ],
      "execution_count": 0,
      "outputs": [
        {
          "output_type": "stream",
          "text": [
            "Enter the Elementstejas puru manthan cat dog\n",
            "['tejas', 'puru', 'manthan', 'cat', 'dog']\n",
            "Enter the element which you want to search from tuple:cat\n",
            "Element is present\n"
          ],
          "name": "stdout"
        }
      ]
    },
    {
      "cell_type": "markdown",
      "metadata": {
        "id": "vD5PYLMuGga_",
        "colab_type": "text"
      },
      "source": [
        "(8) Write a Python program to find maximum and the minimum value in a set. "
      ]
    },
    {
      "cell_type": "code",
      "metadata": {
        "id": "t0D5kdJUGjjw",
        "colab_type": "code",
        "outputId": "743bdf4d-ab18-4f91-a3f2-6bd9e0ca623b",
        "colab": {
          "base_uri": "https://localhost:8080/",
          "height": 52
        }
      },
      "source": [
        "# write your answer here\n",
        "Sentence = {1,4,5,8,9,10,20}\n",
        "Maximum = max(Sentence)\n",
        "print('Maximum number is :',Maximum)\n",
        "Minimum = min(Sentence)\n",
        "print('Minimum number is :' ,Minimum) "
      ],
      "execution_count": 0,
      "outputs": [
        {
          "output_type": "stream",
          "text": [
            "Maximum number is : 20\n",
            "Minimum number is : 1\n"
          ],
          "name": "stdout"
        }
      ]
    },
    {
      "cell_type": "markdown",
      "metadata": {
        "id": "uHkd-y5VhVWC",
        "colab_type": "text"
      },
      "source": [
        "(9) Write a Python program to randomly divide the students in this class into four groups for term projects. Here is the students list:\n",
        "\n",
        "studnet_list = ['sa0753','laa0240','lba0043','pb0283','vmb0067','vcd0017','ag1121','lg0426','mj0396','ak0860','vk0222','vk0216',\n",
        "                'tpk0023','nk0327','mk0830','tbl0041','al0787','am1823','sm1515','km0738','hn0139','an0521','ap0975','dp1080',\n",
        "                'pk0292','vp0241','rp0477','hr0178','ps0501','ss1976','ss1872','ss1872','bs0490','pt0218','ry0104']"
      ]
    },
    {
      "cell_type": "code",
      "metadata": {
        "id": "3iGbmcOBhTwy",
        "colab_type": "code",
        "outputId": "9269e848-7c73-4ee9-82b9-f09fef216f7d",
        "colab": {
          "base_uri": "https://localhost:8080/",
          "height": 510
        }
      },
      "source": [
        "# write your answer here\n",
        "import random\n",
        "group1 = []\n",
        "Z = []\n",
        "i = 0\n",
        "people = ['sa0753','laa0240','lba0043','pb0283','vmb0067','vcd0017','ag1121','lg0426','mj0396','ak0860','vk0222','vk0216', 'tpk0023','nk0327','mk0830','tbl0041','al0787','am1823','sm1515','km0738','hn0139','an0521','ap0975','dp1080', 'pk0292','vp0241','rp0477','hr0178','ps0501','ss1976','ss1872','ss1872','bs0490','pt0218','ry0104']\n",
        "Z= random.sample(range(0,25),24)\n",
        "while i <24: \n",
        " if i<6 :\n",
        "   n = Z[i]\n",
        "   group1.append(people[n])\n",
        " if i >5 and i<12 :\n",
        "    n = Z[i]\n",
        "    group1.append(people[n])\n",
        " if i > 11 and i<18 :\n",
        "    n = Z[i]\n",
        "    group1.append(people[n])\n",
        " if i >17 and i<24 :\n",
        "    n = Z[i]\n",
        "    group1.append(people[n])\n",
        " i = i + 1 \n",
        "\n",
        "i = 0\n",
        "print(\"Group1-----------------------\")\n",
        "while i<6:\n",
        "  print (group1[i])\n",
        "  i+=1\n",
        "print(\"Group2-----------------------\")\n",
        "while i>5 and i<12:\n",
        "  print (group1[i])\n",
        "  i+=1\n",
        "print(\"Group3-----------------------\")\n",
        "while i>11 and i<18:\n",
        "  print (group1[i])\n",
        "  i+=1\n",
        "print(\"Group4-----------------------\")\n",
        "while i>17 and i<24:\n",
        "  print (group1[i])\n",
        "  i+=1"
      ],
      "execution_count": 0,
      "outputs": [
        {
          "output_type": "stream",
          "text": [
            "Group1-----------------------\n",
            "am1823\n",
            "tbl0041\n",
            "pk0292\n",
            "an0521\n",
            "ak0860\n",
            "ag1121\n",
            "Group2-----------------------\n",
            "lg0426\n",
            "al0787\n",
            "vk0216\n",
            "mk0830\n",
            "pb0283\n",
            "hn0139\n",
            "Group3-----------------------\n",
            "laa0240\n",
            "sa0753\n",
            "vcd0017\n",
            "mj0396\n",
            "ap0975\n",
            "vmb0067\n",
            "Group4-----------------------\n",
            "sm1515\n",
            "nk0327\n",
            "vk0222\n",
            "dp1080\n",
            "lba0043\n",
            "km0738\n"
          ],
          "name": "stdout"
        }
      ]
    }
  ]
}