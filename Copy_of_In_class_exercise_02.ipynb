{
  "nbformat": 4,
  "nbformat_minor": 0,
  "metadata": {
    "colab": {
      "name": "Copy of In_class_exercise_02.ipynb",
      "provenance": [],
      "collapsed_sections": [],
      "include_colab_link": true
    },
    "kernelspec": {
      "name": "python3",
      "display_name": "Python 3"
    }
  },
  "cells": [
    {
      "cell_type": "markdown",
      "metadata": {
        "id": "view-in-github",
        "colab_type": "text"
      },
      "source": [
        "<a href=\"https://colab.research.google.com/github/tejask666/Tejas_INFO5731_Spring2020/blob/master/Copy_of_In_class_exercise_02.ipynb\" target=\"_parent\"><img src=\"https://colab.research.google.com/assets/colab-badge.svg\" alt=\"Open In Colab\"/></a>"
      ]
    },
    {
      "cell_type": "markdown",
      "metadata": {
        "id": "oo5bsEh2eeWi",
        "colab_type": "text"
      },
      "source": [
        "# **The second In-class-exercise**\n"
      ]
    },
    {
      "cell_type": "markdown",
      "metadata": {
        "id": "2sPQ58dIeqgp",
        "colab_type": "text"
      },
      "source": [
        "(1) Write a Python program to find the duplicate elements in a given array of integers. Return -1 If there are no such elements."
      ]
    },
    {
      "cell_type": "code",
      "metadata": {
        "id": "mnrvKMFTeoJR",
        "colab_type": "code",
        "outputId": "84268b9b-3b1a-4670-c447-e2c47761d988",
        "colab": {
          "base_uri": "https://localhost:8080/",
          "height": 70
        }
      },
      "source": [
        "# write your answer here\n",
        "x = input('enter any value')\n",
        "li = list(x.split(\" \"))\n",
        "x =[]\n",
        "for n in li:\n",
        "    x.append(int(n))\n",
        "print(x)\n",
        "flag =0\n",
        "j = 1\n",
        "i = 0\n",
        "while i<len(x) :\n",
        "    if flag ==0 :\n",
        "        j = i+1\n",
        "\n",
        "        while j < len(x):\n",
        "            if x[i] == x[j]:\n",
        "                print(\"Repetation Found in array\")\n",
        "                flag = 1\n",
        "                break\n",
        "            else:\n",
        "                j+=1\n",
        "        i+=1\n",
        "    else:\n",
        "        break\n",
        "if flag ==0 :\n",
        "    print(\"-1\")\n",
        "\n"
      ],
      "execution_count": 0,
      "outputs": [
        {
          "output_type": "stream",
          "text": [
            "enter any value23 24 25 26 27\n",
            "[23, 24, 25, 26, 27]\n",
            "-1\n"
          ],
          "name": "stdout"
        }
      ]
    },
    {
      "cell_type": "markdown",
      "metadata": {
        "id": "YYrH6n6IhZoQ",
        "colab_type": "text"
      },
      "source": [
        "(2) Write a Python program to select all the Sundays of a specified year.\n",
        "\n"
      ]
    },
    {
      "cell_type": "code",
      "metadata": {
        "id": "OSfPLd23eLpX",
        "colab_type": "code",
        "outputId": "44377e15-ccdf-4ce9-bccc-1731415608d3",
        "colab": {
          "base_uri": "https://localhost:8080/",
          "height": 1000
        }
      },
      "source": [
        "# write your answer here\n",
        "\n",
        "\n",
        "import datetime\n",
        "import calendar\n",
        "\n",
        "'''function to get number of sundays in given year'''\n",
        "def getsundays(year):\n",
        " for month in range(1,13):\n",
        "    print(\"************Sundays in month of \" + str(calendar.month_name[month]) + \" \" + str(year) + \"*************\")\n",
        "    a = calendar.monthrange(year,month)\n",
        "    for day in range(1,a[1]+1):\n",
        "        a= datetime.datetime(year,month,day)\n",
        "        if(a.strftime(\"%A\")==\"Sunday\"):\n",
        "            print(\"Sunday:\"+str(a.date()))\n",
        "\n",
        "\n",
        "#taking year as an input from user\n",
        "yearbyuser = int(input(\"Enter year:\"))\n",
        "getsundays(yearbyuser)"
      ],
      "execution_count": 0,
      "outputs": [
        {
          "output_type": "stream",
          "text": [
            "Enter year:2018\n",
            "************Sundays in month of January 2018*************\n",
            "Sunday:2018-01-07\n",
            "Sunday:2018-01-14\n",
            "Sunday:2018-01-21\n",
            "Sunday:2018-01-28\n",
            "************Sundays in month of February 2018*************\n",
            "Sunday:2018-02-04\n",
            "Sunday:2018-02-11\n",
            "Sunday:2018-02-18\n",
            "Sunday:2018-02-25\n",
            "************Sundays in month of March 2018*************\n",
            "Sunday:2018-03-04\n",
            "Sunday:2018-03-11\n",
            "Sunday:2018-03-18\n",
            "Sunday:2018-03-25\n",
            "************Sundays in month of April 2018*************\n",
            "Sunday:2018-04-01\n",
            "Sunday:2018-04-08\n",
            "Sunday:2018-04-15\n",
            "Sunday:2018-04-22\n",
            "Sunday:2018-04-29\n",
            "************Sundays in month of May 2018*************\n",
            "Sunday:2018-05-06\n",
            "Sunday:2018-05-13\n",
            "Sunday:2018-05-20\n",
            "Sunday:2018-05-27\n",
            "************Sundays in month of June 2018*************\n",
            "Sunday:2018-06-03\n",
            "Sunday:2018-06-10\n",
            "Sunday:2018-06-17\n",
            "Sunday:2018-06-24\n",
            "************Sundays in month of July 2018*************\n",
            "Sunday:2018-07-01\n",
            "Sunday:2018-07-08\n",
            "Sunday:2018-07-15\n",
            "Sunday:2018-07-22\n",
            "Sunday:2018-07-29\n",
            "************Sundays in month of August 2018*************\n",
            "Sunday:2018-08-05\n",
            "Sunday:2018-08-12\n",
            "Sunday:2018-08-19\n",
            "Sunday:2018-08-26\n",
            "************Sundays in month of September 2018*************\n",
            "Sunday:2018-09-02\n",
            "Sunday:2018-09-09\n",
            "Sunday:2018-09-16\n",
            "Sunday:2018-09-23\n",
            "Sunday:2018-09-30\n",
            "************Sundays in month of October 2018*************\n",
            "Sunday:2018-10-07\n",
            "Sunday:2018-10-14\n",
            "Sunday:2018-10-21\n",
            "Sunday:2018-10-28\n",
            "************Sundays in month of November 2018*************\n",
            "Sunday:2018-11-04\n",
            "Sunday:2018-11-11\n",
            "Sunday:2018-11-18\n",
            "Sunday:2018-11-25\n",
            "************Sundays in month of December 2018*************\n",
            "Sunday:2018-12-02\n",
            "Sunday:2018-12-09\n",
            "Sunday:2018-12-16\n",
            "Sunday:2018-12-23\n",
            "Sunday:2018-12-30\n"
          ],
          "name": "stdout"
        }
      ]
    },
    {
      "cell_type": "markdown",
      "metadata": {
        "id": "UIpziZ6Sjie-",
        "colab_type": "text"
      },
      "source": [
        "(3) Python files reading and writing. Download the “[exercise_02_data _collection.zip](https://github.com/unt-iialab/INFO5731_Spring2020/blob/master/In_class_exercise/exercise_02_data_collection.zip)” to your local and un-zip it.\n",
        "\n",
        "*   Write a program to read all the txt files and save the sentences in all the files into one csv file with two columns, the first column is sentence id (txt file name+sentence line number), the second column is the sentence text content.\n",
        "*   Remove all the punctuations from the sentences, save the processed sentences into a new column in the same csv file.\n",
        "*   Ask the user to enter a word, return all the sentences that include this word, three kinds of information should be returned: sentence id, sentence text content, the count that user input word appear in the sentence..\n",
        "\n"
      ]
    },
    {
      "cell_type": "code",
      "metadata": {
        "id": "f3CUsrWOj1Xy",
        "colab_type": "code",
        "outputId": "d15c3847-e484-48aa-da52-b03d067d239e",
        "colab": {
          "base_uri": "https://localhost:8080/",
          "height": 160
        }
      },
      "source": [
        "# write your answer here\n",
        "\n",
        "import csv\n",
        "import os\n",
        "import string\n",
        "import self as self\n",
        "\n",
        "\n",
        "class assignment():\n",
        "    def gettext(self):\n",
        "        #prepared csv file with fieldnames/column names\n",
        "        #from google.colab import files\n",
        "        #uploaded = files.upload()\n",
        "        path = \"/content/textfiles\"\n",
        "        files = os.listdir(path)\n",
        "        fieldnames = ['Sentence_ID', 'Text_Content','Punctuations_Removed']\n",
        "        csvfile = open('/content/Output.csv', 'w')\n",
        "        writer = csv.DictWriter(csvfile, fieldnames=fieldnames)\n",
        "        writer.writeheader()\n",
        "\n",
        "       #using for loop for accessing text files one by one to get sentenceid i.e. name of file without its extension and whole content in file\n",
        "        for i in range(len(files)):\n",
        "            count=0\n",
        "            filepath = path+\"/\"+files[i]\n",
        "            sentenceid = os.path.splitext(files[i])\n",
        "            with open(filepath,mode='r') as content_file:\n",
        "                content = content_file.readlines()\n",
        "                for sentence in content:\n",
        "                    count=count+1\n",
        "                    sentenceno=sentenceid[0]+\"_\"+str(count)\n",
        "                    #removing punctuations of whole content\n",
        "                    newcontent=assignment.removepunctuation(sentence)\n",
        "                    writer.writerow({'Sentence_ID': str(sentenceno), 'Text_Content': sentence, 'Punctuations_Removed': newcontent})\n",
        "       #writing that sentenceid and content of file one by one using same for loop in csv file we prepared before.\n",
        "\n",
        "\n",
        "\n",
        "    #function to remove punctuations\n",
        "    def removepunctuation(sentence):\n",
        "        punctuations = string.punctuation  #string.punctuation gives list of punctuations available in language. e.g. \"@#$%^&*\"\n",
        "        newsen = \"\"\n",
        "        for i in sentence:\n",
        "            if str(i) not in punctuations:\n",
        "                newsen = newsen + str(i)\n",
        "        return newsen\n",
        "\n",
        "#functions to get number of times word given by user appears in content of each file and displaying information about same.\n",
        "    def getwords(self):\n",
        "        word= input(\"Enter word:\")\n",
        "        with open('/content/Output.csv', 'r') as csvfile:\n",
        "            readcsv=csv.DictReader(csvfile)\n",
        "            for row in readcsv:\n",
        "               count = 0\n",
        "               if row != []:\n",
        "                     words=str(row['Punctuations_Removed']).split()\n",
        "                     for i in range(0,len(words)):\n",
        "                             if (words[i]==word):\n",
        "                                 count=count+1\n",
        "                     if(count!=0):\n",
        "                          print(\"********word given by user:\"+word+ \" appeared \"+str(count)+\" times in content given below*******\" )\n",
        "                          print(\"sentence ID:\"+row['Sentence_ID']+\" content:\"+row['Punctuations_Removed'])\n",
        "\n",
        "#calling functions\n",
        "assignment.gettext(self)\n",
        "assignment.getwords(self)\n",
        "\n"
      ],
      "execution_count": 0,
      "outputs": [
        {
          "output_type": "stream",
          "text": [
            "Enter word:find\n",
            "********word given by user:find appeared 1 times in content given below*******\n",
            "sentence ID:ARTHROTEC.9_5 content:If I could find the same sort of thing without the EXTREME nausea  I would switch drugs in teh blink of an eye\n",
            "\n",
            "********word given by user:find appeared 1 times in content given below*******\n",
            "sentence ID:ARTHROTEC.30_16 content:I do not look forward to the extra pains I will llkely experience in a couple weeks but I am sure I can find something else to deal with them\n",
            "\n"
          ],
          "name": "stdout"
        }
      ]
    },
    {
      "cell_type": "code",
      "metadata": {
        "id": "tx84MUeq8mpE",
        "colab_type": "code",
        "colab": {}
      },
      "source": [
        "!pip install self\n"
      ],
      "execution_count": 0,
      "outputs": []
    },
    {
      "cell_type": "markdown",
      "metadata": {
        "id": "-12cqmJEpZOh",
        "colab_type": "text"
      },
      "source": [
        "(4) Install packages nltk, numpy, scipy, pandas, and sklearn on Google Colab. Write a program to test whether they are installed successfully. "
      ]
    },
    {
      "cell_type": "code",
      "metadata": {
        "id": "f1pn1Zl2qK77",
        "colab_type": "code",
        "outputId": "2d5be7aa-ba71-40b5-e6ae-2c84c9295aec",
        "colab": {
          "base_uri": "https://localhost:8080/",
          "height": 105
        }
      },
      "source": [
        "# write your answer here\n",
        "\n",
        "try:\n",
        "  import nltk\n",
        "  print('nltk Package is installed')\n",
        "  import numpy\n",
        "  print('numpy Package is installed')\n",
        "  import pandas\n",
        "  print('scipy Package is installed')\n",
        "  import sklearn\n",
        "  print(' pandas Package is installed')\n",
        "  import Pillow\n",
        "  print(\"Pillow Package is insalled\")\n",
        "except ImportError:\n",
        "    print(\" Package not installed\")\n",
        "\n"
      ],
      "execution_count": 0,
      "outputs": [
        {
          "output_type": "stream",
          "text": [
            "nltk Package is installed\n",
            "numpy Package is installed\n",
            "scipy Package is installed\n",
            " pandas Package is installed\n",
            " Package not installed\n"
          ],
          "name": "stdout"
        }
      ]
    }
  ]
}