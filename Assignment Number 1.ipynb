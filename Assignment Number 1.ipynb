{
  "nbformat": 4,
  "nbformat_minor": 0,
  "metadata": {
    "colab": {
      "name": "Copy of Welcome To Colaboratory",
      "provenance": [],
      "collapsed_sections": [],
      "toc_visible": true,
      "include_colab_link": true
    },
    "kernelspec": {
      "display_name": "Python 3",
      "name": "python3"
    }
  },
  "cells": [
    {
      "cell_type": "markdown",
      "metadata": {
        "id": "view-in-github",
        "colab_type": "text"
      },
      "source": [
        "<a href=\"https://colab.research.google.com/github/tejask666/Tejas_INFO5731_Spring2020/blob/master/Assignment%20Number%201.ipynb\" target=\"_parent\"><img src=\"https://colab.research.google.com/assets/colab-badge.svg\" alt=\"Open In Colab\"/></a>"
      ]
    },
    {
      "cell_type": "markdown",
      "metadata": {
        "id": "otrH9qDq6iVC",
        "colab_type": "text"
      },
      "source": [
        "Question Number:1 - Solution"
      ]
    },
    {
      "cell_type": "code",
      "metadata": {
        "id": "5B_7o7wf6nVl",
        "colab_type": "code",
        "outputId": "285b89d8-f3cd-416f-e9f8-d66cd53b6fb7",
        "colab": {
          "base_uri": "https://localhost:8080/",
          "height": 87
        }
      },
      "source": [
        "## Average of Group\n",
        "i=0\n",
        "arr = []\n",
        "asc= []\n",
        "desc=[]\n",
        "import random\n",
        "import numpy\n",
        "while i <12:\n",
        " number=random.randint(1,100)\n",
        " arr.append(number)\n",
        " i = i + 1\n",
        "print('Random Number =',arr)\n",
        "asc=arr\n",
        "asc.sort()\n",
        "print('Asecending Order =',asc)\n",
        "desc=arr\n",
        "desc.sort(reverse = True)\n",
        "print('Desecending Order =',desc)\n",
        "Addition1 = sum(asc)\n",
        "Addition2 = sum(desc)\n",
        "Ag=numpy.add(Addition1,Addition2)\n",
        "Avg = Ag/2\n",
        "print ('Average of Group =', Avg)"
      ],
      "execution_count": 0,
      "outputs": [
        {
          "output_type": "stream",
          "text": [
            "Random Number = [77, 12, 65, 27, 31, 97, 18, 73, 67, 49, 43, 47]\n",
            "Asecending Order = [12, 18, 27, 31, 43, 47, 49, 65, 67, 73, 77, 97]\n",
            "Desecending Order = [97, 77, 73, 67, 65, 49, 47, 43, 31, 27, 18, 12]\n",
            "Average of Group = 606.0\n"
          ],
          "name": "stdout"
        }
      ]
    },
    {
      "cell_type": "markdown",
      "metadata": {
        "id": "e5itSbX_7JX_",
        "colab_type": "text"
      },
      "source": [
        "Question Number:2 - Solution"
      ]
    },
    {
      "cell_type": "code",
      "metadata": {
        "id": "j7edbagZ7N_W",
        "colab_type": "code",
        "outputId": "47553c84-c003-4646-96cf-37215e971308",
        "colab": {
          "base_uri": "https://localhost:8080/",
          "height": 210
        }
      },
      "source": [
        "Vowels = '''AEIOUaeiou'''\n",
        "Punctuation = '''@!#$%^&*:;\"',.|\\~`'''\n",
        "VowaA = '''aA'''\n",
        "cntA = 0\n",
        "VoweE = '''eE'''\n",
        "cntE = 0\n",
        "VowiI = '''iI'''\n",
        "cntI = 0\n",
        "VowoO = '''oO'''\n",
        "cntO = 0\n",
        "VowuU = '''uU'''\n",
        "cntU = 0\n",
        "counter = 0\n",
        "FirstSentence = input('Enter the First Sentence :')\n",
        "First= FirstSentence.split()\n",
        "print(First)\n",
        "SecondSentence = input('Enter the Second Sentence :')\n",
        "Second= SecondSentence.split()\n",
        "print(Second)\n",
        "With=(set(First) & set(Second))\n",
        "print(With)\n",
        "str = ''.join(With)\n",
        "for char in str: \n",
        "    if char in Punctuation: \n",
        "        str=str.replace(char,\"\")\n",
        "print('Sentence wihtout Punct:',str)  \n",
        "for char in str:\n",
        "    if char in VowaA:\n",
        "        cntA = cntA + 1\n",
        "    if char in VowiI:\n",
        "        cntI = cntI + 1\n",
        "    if char in VoweE:\n",
        "        cntE = cntE + 1\n",
        "    if char in VowoO:\n",
        "        cntO = cntO + 1\n",
        "    if char in VowuU:\n",
        "        cntU = cntU + 1\n",
        "if(cntA):\n",
        "    print('a:',  cntA)\n",
        "if(cntE):\n",
        "    print('e:',  cntE)\n",
        "if(cntI):\n",
        "    print('i:',  cntI)\n",
        "if(cntO):\n",
        "    print('o:',  cntO)\n",
        "if(cntU):\n",
        "    print('u:',  cntU)\n"
      ],
      "execution_count": 0,
      "outputs": [
        {
          "output_type": "stream",
          "text": [
            "Enter the First Sentence :My name is tejas Kulkarni A E O I U a e ! @ # \" ; : ' , .\n",
            "['My', 'name', 'is', 'tejas', 'Kulkarni', 'A', 'E', 'O', 'I', 'U', 'a', 'e', '!', '@', '#', '\"', ';', ':', \"'\", ',', '.']\n",
            "Enter the Second Sentence :My name is A E O I U a e ! @ # : ; ' , .\n",
            "['My', 'name', 'is', 'A', 'E', 'O', 'I', 'U', 'a', 'e', '!', '@', '#', ':', ';', \"'\", ',', '.']\n",
            "{\"'\", 'a', 'name', 'E', 'is', ',', 'A', '#', 'I', 'O', 'e', '.', 'U', 'My', ':', '!', '@', ';'}\n",
            "Sentence wihtout Punct: anameEisAIOeUMy\n",
            "a: 3\n",
            "e: 3\n",
            "i: 2\n",
            "o: 1\n",
            "u: 1\n"
          ],
          "name": "stdout"
        }
      ]
    },
    {
      "cell_type": "markdown",
      "metadata": {
        "id": "TZsaZgwu7XOk",
        "colab_type": "text"
      },
      "source": [
        "Question 3 - Solution"
      ]
    },
    {
      "cell_type": "code",
      "metadata": {
        "id": "SToXkkHF7bNE",
        "colab_type": "code",
        "outputId": "5fd50dca-0251-41c0-b329-eb9f433dbf6e",
        "colab": {
          "base_uri": "https://localhost:8080/",
          "height": 210
        }
      },
      "source": [
        "pi = 3.14\n",
        "r=1\n",
        "print('r  V')\n",
        "while r<11:\n",
        "  V= 4.0/3.0*pi* r**3 \n",
        "  print( r, ' ', V)\n",
        "  r += 1  \n"
      ],
      "execution_count": 0,
      "outputs": [
        {
          "output_type": "stream",
          "text": [
            "r  V\n",
            "1   4.1866666666666665\n",
            "2   33.49333333333333\n",
            "3   113.03999999999999\n",
            "4   267.94666666666666\n",
            "5   523.3333333333334\n",
            "6   904.3199999999999\n",
            "7   1436.0266666666666\n",
            "8   2143.5733333333333\n",
            "9   3052.08\n",
            "10   4186.666666666667\n"
          ],
          "name": "stdout"
        }
      ]
    },
    {
      "cell_type": "markdown",
      "metadata": {
        "id": "wXfjz5xD7q0M",
        "colab_type": "text"
      },
      "source": [
        "Question 4- Solution"
      ]
    },
    {
      "cell_type": "code",
      "metadata": {
        "id": "DsakRW9j7tUS",
        "colab_type": "code",
        "colab": {}
      },
      "source": [
        ""
      ],
      "execution_count": 0,
      "outputs": []
    }
  ]
}