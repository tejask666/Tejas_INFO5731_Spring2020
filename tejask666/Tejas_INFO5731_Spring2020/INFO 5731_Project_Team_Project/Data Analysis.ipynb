{
  "nbformat": 4,
  "nbformat_minor": 0,
  "metadata": {
    "kernelspec": {
      "display_name": "Python 3",
      "language": "python",
      "name": "python3"
    },
    "language_info": {
      "codemirror_mode": {
        "name": "ipython",
        "version": 3
      },
      "file_extension": ".py",
      "mimetype": "text/x-python",
      "name": "python",
      "nbconvert_exporter": "python",
      "pygments_lexer": "ipython3",
      "version": "3.7.1"
    },
    "colab": {
      "name": "Copy of excel writer.ipynb",
      "provenance": [],
      "include_colab_link": true
    }
  },
  "cells": [
    {
      "cell_type": "markdown",
      "metadata": {
        "id": "view-in-github",
        "colab_type": "text"
      },
      "source": [
        "<a href=\"https://colab.research.google.com/github/tejask666/Tejas_INFO5731_Spring2020/blob/master/tejask666/Tejas_INFO5731_Spring2020/INFO%205731_Project_Team_Project/Data%20Analysis.ipynb\" target=\"_parent\"><img src=\"https://colab.research.google.com/assets/colab-badge.svg\" alt=\"Open In Colab\"/></a>"
      ]
    },
    {
      "cell_type": "markdown",
      "metadata": {
        "id": "WzoHmSTu_vXL",
        "colab_type": "text"
      },
      "source": [
        "# **INFO 5731 COMPUTATIONAL METHODS FOR INFORMATION SYSTEMS**\n",
        "**Data analysis is a process of inspecting, cleansing, transforming and modeling data to discover useful information, informing conclusion and supporting decision-making.The results of the data analysis in this project will provide multiple facets and approaches that will help to make the decisions more scientific.**\n",
        "\n",
        "**Once all references are extracted we have conducted below analysis methods** "
      ]
    },
    {
      "cell_type": "markdown",
      "metadata": {
        "id": "TQse_EGvAbZg",
        "colab_type": "text"
      },
      "source": [
        "# **1.Analysis Performed to Calculate Journals That Have Appeared Frequently.**"
      ]
    },
    {
      "cell_type": "code",
      "metadata": {
        "id": "-3rksI6HIXeT",
        "colab_type": "code",
        "colab": {}
      },
      "source": [
        "import pandas as pd\n",
        "import re\n",
        "df = pd.read_excel(r'Total_References.xlsx')"
      ],
      "execution_count": 0,
      "outputs": []
    },
    {
      "cell_type": "code",
      "metadata": {
        "id": "rOFOFU6WIXea",
        "colab_type": "code",
        "colab": {}
      },
      "source": [
        "df1 = df[(df['Journal'].str.strip()) != '']\n",
        "df2 = df1[df1['Journal']!= 'nan']"
      ],
      "execution_count": 0,
      "outputs": []
    },
    {
      "cell_type": "code",
      "metadata": {
        "id": "DQXU_q3YIXeg",
        "colab_type": "code",
        "outputId": "b985a34a-b559-4ba4-b55c-8e27f4ee3454",
        "colab": {
          "base_uri": "https://localhost:8080/",
          "height": 208
        }
      },
      "source": [
        "freq = pd.Series(df2['Journal']).value_counts()[:10]\n",
        "freq"
      ],
      "execution_count": 0,
      "outputs": [
        {
          "output_type": "execute_result",
          "data": {
            "text/plain": [
              " Journal of the Experimental Analysis of Behavior\\n    12863\n",
              " Journal of the Experimental Analysis of Behavior       9642\n",
              " Journal of Applied Behavior Analysis                   6450\n",
              " The Psychological Record                               4340\n",
              " Journal of Applied Behavior Analysis\\n                 3648\n",
              " The Behavior Analyst\\n                                 3646\n",
              " The Behavior Analyst                                   3550\n",
              " The Psychological Record\\n                             3467\n",
              " Behavioural Processes\\n                                3091\n",
              " Revista Mexicana de Análisis de la Conducta\\n          2583\n",
              "Name: Journal, dtype: int64"
            ]
          },
          "metadata": {
            "tags": []
          },
          "execution_count": 3
        }
      ]
    },
    {
      "cell_type": "markdown",
      "metadata": {
        "id": "WRFxtn1YA_02",
        "colab_type": "text"
      },
      "source": [
        "# **2.Analysis Performed to Calculate Articles That Have Appeared Frequently**"
      ]
    },
    {
      "cell_type": "code",
      "metadata": {
        "id": "BbExmDRuIXen",
        "colab_type": "code",
        "outputId": "1c8035e8-5519-4670-c7ed-8e9ae566696b",
        "colab": {
          "base_uri": "https://localhost:8080/",
          "height": 208
        }
      },
      "source": [
        "df1 = df[(df['Article'].str.strip()) != '']\n",
        "df2 = df1[df1['Article']!= 'nan']\n",
        "freq = pd.Series(df2['Article']).value_counts()[:10]\n",
        "freq"
      ],
      "execution_count": 0,
      "outputs": [
        {
          "output_type": "execute_result",
          "data": {
            "text/plain": [
              " Science and human behavior                                                   1502\n",
              " Verbal behavior                                                              1478\n",
              " B                                                                            1174\n",
              " John B                                                                        967\n",
              " About behaviorism                                                             929\n",
              " Psychology as the behaviorist views it                                        870\n",
              "N.A                                                                            798\n",
              " A model of resurgence based on behavioralmomentum theory                      762\n",
              " Resurgence of previously reinforced re-sponding: Research and application     676\n",
              " Concurrent resurgence and be-havioral history                                 675\n",
              "Name: Article, dtype: int64"
            ]
          },
          "metadata": {
            "tags": []
          },
          "execution_count": 4
        }
      ]
    },
    {
      "cell_type": "markdown",
      "metadata": {
        "id": "h4nXVnatBTH7",
        "colab_type": "text"
      },
      "source": [
        "# **3.Analysis Performed to Calculate Author Name Which Have Appeared Frequently in Articles.**"
      ]
    },
    {
      "cell_type": "code",
      "metadata": {
        "id": "0_nL_0KRIXet",
        "colab_type": "code",
        "outputId": "2b5a362a-a2c5-4ead-9c91-ae37b4aef12e",
        "colab": {
          "base_uri": "https://localhost:8080/",
          "height": 208
        }
      },
      "source": [
        "freq = pd.Series(df['Author']).value_counts()[:10]\n",
        "freq"
      ],
      "execution_count": 0,
      "outputs": [
        {
          "output_type": "execute_result",
          "data": {
            "text/plain": [
              "Skinner, B. F.      11453\n",
              "Watson, J. B.        6913\n",
              "Epstein, R.          2735\n",
              "Ribes, E.            2178\n",
              "Sidman, M.           2047\n",
              "Rachlin, H.          1678\n",
              "Samelson, F.         1434\n",
              "Kantor, J. R.        1403\n",
              "Dewsbury, D. A.      1368\n",
              "Catania, A. C.       1283\n",
              "Name: Author, dtype: int64"
            ]
          },
          "metadata": {
            "tags": []
          },
          "execution_count": 5
        }
      ]
    },
    {
      "cell_type": "markdown",
      "metadata": {
        "id": "mMNfF8mXBsg-",
        "colab_type": "text"
      },
      "source": [
        "# **4.Analysis Performed to Calculate Years In Which Most of The Articles Are Published**"
      ]
    },
    {
      "cell_type": "code",
      "metadata": {
        "id": "Ngtj3--WIXez",
        "colab_type": "code",
        "outputId": "c80e81d4-627d-4bd5-d6ed-6a1335449782",
        "colab": {
          "base_uri": "https://localhost:8080/",
          "height": 208
        }
      },
      "source": [
        "freq = pd.Series(df['Year']).value_counts()[:10]\n",
        "freq"
      ],
      "execution_count": 0,
      "outputs": [
        {
          "output_type": "execute_result",
          "data": {
            "text/plain": [
              "2009    13153\n",
              "2008    11468\n",
              "2001    10969\n",
              "2011    10902\n",
              "2000    10489\n",
              "2010    10408\n",
              "2003    10295\n",
              "2006     9905\n",
              "2002     9628\n",
              "2013     9317\n",
              "Name: Year, dtype: int64"
            ]
          },
          "metadata": {
            "tags": []
          },
          "execution_count": 6
        }
      ]
    },
    {
      "cell_type": "markdown",
      "metadata": {
        "id": "Jx76T4J3CH7o",
        "colab_type": "text"
      },
      "source": [
        "# **5.Conducting Article Modeling**"
      ]
    },
    {
      "cell_type": "code",
      "metadata": {
        "id": "lzWGSi64IXe4",
        "colab_type": "code",
        "outputId": "619750dd-6c10-4236-f2e5-0e577020bae6",
        "colab": {
          "base_uri": "https://localhost:8080/",
          "height": 52
        }
      },
      "source": [
        "import nltk\n",
        "df['Journal'] = df['Journal'].str.replace('[^\\w\\s]','')  #removal of punctuation\n",
        "df['Journal'] = df['Journal'].apply(lambda x: \" \".join(x.lower() for x in str(x).split()))#lower case\n",
        "from nltk.corpus import stopwords #removal of stopwords\n",
        "nltk.download('stopwords')\n",
        "stop = stopwords.words('english')\n",
        "df['Journal'] = df['Journal'].apply(lambda x: \" \".join(x for x in x.split() if x not in stop))"
      ],
      "execution_count": 0,
      "outputs": [
        {
          "output_type": "stream",
          "text": [
            "[nltk_data] Downloading package stopwords to /root/nltk_data...\n",
            "[nltk_data]   Unzipping corpora/stopwords.zip.\n"
          ],
          "name": "stdout"
        }
      ]
    },
    {
      "cell_type": "code",
      "metadata": {
        "id": "LnkUwyhnIXe-",
        "colab_type": "code",
        "colab": {}
      },
      "source": [
        "texts=[]\n",
        "from nltk.tokenize import RegexpTokenizer\n",
        "from gensim import corpora,models\n",
        "import gensim\n",
        "tokenizer = RegexpTokenizer(r'\\w+')\n",
        "for i in pd.Series(df['Journal']):\n",
        "    tokens = tokenizer.tokenize(i)\n",
        "    texts.append(tokens)\n",
        "dictionary = corpora.Dictionary(texts)\n",
        "corpus = [dictionary.doc2bow(text) for text in texts]\n",
        "ldamodel = gensim.models.ldamodel.LdaModel(corpus, num_topics =5 ,id2word = dictionary,passes =20)"
      ],
      "execution_count": 0,
      "outputs": []
    },
    {
      "cell_type": "code",
      "metadata": {
        "id": "ePPdHEdGIXfC",
        "colab_type": "code",
        "outputId": "ecb724d4-ae33-475b-9a60-b7e8020c023a",
        "colab": {}
      },
      "source": [
        "print(ldamodel.print_topics(num_topics=5,num_words =5))"
      ],
      "execution_count": 0,
      "outputs": [
        {
          "output_type": "stream",
          "text": [
            "[(0, '0.102*\"new\" + 0.094*\"york\" + 0.044*\"press\" + 0.029*\"science\" + 0.027*\"university\"'), (1, '0.048*\"social\" + 0.039*\"effects\" + 0.032*\"n\" + 0.029*\"personality\" + 0.024*\"1967\"'), (2, '0.073*\"amp\" + 0.047*\"j\" + 0.026*\"r\" + 0.021*\"h\" + 0.021*\"psychol\"'), (3, '0.100*\"psychological\" + 0.072*\"behavior\" + 0.041*\"record\" + 0.033*\"learning\" + 0.031*\"research\"'), (4, '0.194*\"journal\" + 0.138*\"behavior\" + 0.107*\"experimental\" + 0.103*\"analysis\" + 0.093*\"psychology\"')]\n"
          ],
          "name": "stdout"
        }
      ]
    },
    {
      "cell_type": "code",
      "metadata": {
        "id": "QL3ofj7IIXfG",
        "colab_type": "code",
        "outputId": "68cc9930-1bb5-4b80-98fd-5bc4329c0598",
        "colab": {}
      },
      "source": [
        "print(ldamodel.print_topics(num_topics=5,num_words =5))"
      ],
      "execution_count": 0,
      "outputs": [
        {
          "output_type": "stream",
          "text": [
            "[(0, '0.102*\"new\" + 0.094*\"york\" + 0.044*\"press\" + 0.029*\"science\" + 0.027*\"university\"'), (1, '0.048*\"social\" + 0.039*\"effects\" + 0.032*\"n\" + 0.029*\"personality\" + 0.024*\"1967\"'), (2, '0.073*\"amp\" + 0.047*\"j\" + 0.026*\"r\" + 0.021*\"h\" + 0.021*\"psychol\"'), (3, '0.100*\"psychological\" + 0.072*\"behavior\" + 0.041*\"record\" + 0.033*\"learning\" + 0.031*\"research\"'), (4, '0.194*\"journal\" + 0.138*\"behavior\" + 0.107*\"experimental\" + 0.103*\"analysis\" + 0.093*\"psychology\"')]\n"
          ],
          "name": "stdout"
        }
      ]
    },
    {
      "cell_type": "code",
      "metadata": {
        "id": "S0olBTDIIXfK",
        "colab_type": "code",
        "outputId": "a4e1fa4a-d453-43e7-943f-ab5214f8a805",
        "colab": {}
      },
      "source": [
        "import nltk\n",
        "df['Article'] = df['Article'].str.replace('[^\\w\\s]','')  #removal of punctuation\n",
        "df['Article'] = df['Article'].apply(lambda x: \" \".join(x.lower() for x in str(x).split()))#lower case\n",
        "from nltk.corpus import stopwords #removal of stopwords\n",
        "nltk.download('stopwords')\n",
        "stop = stopwords.words('english')\n",
        "df['Article'] = df['Article'].apply(lambda x: \" \".join(x for x in x.split() if x not in stop))"
      ],
      "execution_count": 0,
      "outputs": [
        {
          "output_type": "stream",
          "text": [
            "[nltk_data] Downloading package stopwords to\n",
            "[nltk_data]     C:\\Users\\bhara\\AppData\\Roaming\\nltk_data...\n",
            "[nltk_data]   Package stopwords is already up-to-date!\n"
          ],
          "name": "stderr"
        }
      ]
    },
    {
      "cell_type": "code",
      "metadata": {
        "id": "UlxxqE4nIXfN",
        "colab_type": "code",
        "colab": {}
      },
      "source": [
        "texts=[]\n",
        "from nltk.tokenize import RegexpTokenizer\n",
        "from gensim import corpora,models\n",
        "import gensim\n",
        "tokenizer = RegexpTokenizer(r'\\w+')\n",
        "for i in pd.Series(df['Article']):\n",
        "    tokens = tokenizer.tokenize(i)\n",
        "    texts.append(tokens)\n",
        "dictionary = corpora.Dictionary(texts)\n",
        "corpus = [dictionary.doc2bow(text) for text in texts]\n",
        "ldamodel = gensim.models.ldamodel.LdaModel(corpus, num_topics =10 ,id2word = dictionary,passes =20)"
      ],
      "execution_count": 0,
      "outputs": []
    },
    {
      "cell_type": "code",
      "metadata": {
        "id": "uAcl_NXtIXfQ",
        "colab_type": "code",
        "outputId": "207e2789-cb14-4b73-f278-8d4fd050e140",
        "colab": {}
      },
      "source": [
        "print(ldamodel.print_topics(num_topics=5,num_words =5))"
      ],
      "execution_count": 0,
      "outputs": [
        {
          "output_type": "stream",
          "text": [
            "[(2, '0.059*\"stimulus\" + 0.058*\"equivalence\" + 0.055*\"c\" + 0.040*\"p\" + 0.035*\"control\"'), (5, '0.055*\"reinforcement\" + 0.039*\"effects\" + 0.028*\"response\" + 0.028*\"theory\" + 0.024*\"behavior\"'), (9, '0.282*\"j\" + 0.029*\"effect\" + 0.023*\"kantor\" + 0.017*\"visual\" + 0.017*\"matching\"'), (6, '0.073*\"behavior\" + 0.046*\"k\" + 0.041*\"verbal\" + 0.038*\"analysis\" + 0.031*\"experimental\"'), (3, '0.157*\"e\" + 0.049*\"de\" + 0.035*\"skinner\" + 0.029*\"delay\" + 0.022*\"v\"')]\n"
          ],
          "name": "stdout"
        }
      ]
    },
    {
      "cell_type": "code",
      "metadata": {
        "id": "cih4jwD5IXfd",
        "colab_type": "code",
        "colab": {}
      },
      "source": [
        ""
      ],
      "execution_count": 0,
      "outputs": []
    }
  ]
}